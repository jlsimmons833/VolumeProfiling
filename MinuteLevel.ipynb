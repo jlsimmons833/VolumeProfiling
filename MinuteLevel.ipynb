{
 "cells": [
  {
   "cell_type": "code",
   "execution_count": 1,
   "metadata": {},
   "outputs": [],
   "source": [
    "import yfinance as yf\n",
    "import pandas as pd\n",
    "from datetime import datetime, timedelta\n"
   ]
  },
  {
   "cell_type": "code",
   "execution_count": 2,
   "metadata": {},
   "outputs": [],
   "source": [
    "\n",
    "# Function to fetch data for a specific period\n",
    "def fetch_data(symbol, start_date, end_date):\n",
    "    data = yf.download(symbol, start=start_date, end=end_date, interval='1m')\n",
    "    return data\n"
   ]
  },
  {
   "cell_type": "code",
   "execution_count": 3,
   "metadata": {},
   "outputs": [],
   "source": [
    "\n",
    "# Function to save data to a pickle file\n",
    "def save_to_pickle(data, filename):\n",
    "    data.to_pickle(filename)\n"
   ]
  },
  {
   "cell_type": "code",
   "execution_count": 6,
   "metadata": {},
   "outputs": [],
   "source": [
    "\n",
    "def main():\n",
    "    start_date = datetime(2018, 11, 1)\n",
    "    end_date = datetime.now()\n",
    "    symbol = '^GSPC'  # Symbol for S&P 500 index\n",
    "    filename = 'spx_data.pkl'\n",
    "    \n",
    "    all_data = pd.DataFrame()\n",
    "\n",
    "    while start_date < end_date:\n",
    "        # Calculate the end date for each week, ensuring it doesn't exceed 7 days from the start date\n",
    "        week_end_date = start_date + timedelta(days=6)\n",
    "        if week_end_date > end_date:\n",
    "            week_end_date = end_date\n",
    "\n",
    "        # Fetching data for the week\n",
    "        weekly_data = fetch_data(symbol, start_date.strftime('%Y-%m-%d'), week_end_date.strftime('%Y-%m-%d'))\n",
    "        all_data = all_data.append(weekly_data)\n",
    "\n",
    "        # Update start_date to the next week\n",
    "        start_date = week_end_date\n",
    "\n",
    "    # Saving all data to a pickle file\n",
    "    save_to_pickle(all_data, filename)\n",
    "    print(f\"Data saved to {filename}\")\n"
   ]
  },
  {
   "cell_type": "code",
   "execution_count": 7,
   "metadata": {},
   "outputs": [
    {
     "name": "stdout",
     "output_type": "stream",
     "text": [
      "[*********************100%%**********************]  1 of 1 completed"
     ]
    },
    {
     "name": "stderr",
     "output_type": "stream",
     "text": [
      "\n",
      "1 Failed download:\n",
      "['^GSPC']: Exception('%ticker%: 1m data not available for startTime=1541044800 and endTime=1541566800. The requested range must be within the last 30 days.')\n"
     ]
    },
    {
     "name": "stdout",
     "output_type": "stream",
     "text": [
      "\n"
     ]
    },
    {
     "ename": "AttributeError",
     "evalue": "'DataFrame' object has no attribute 'append'",
     "output_type": "error",
     "traceback": [
      "\u001b[1;31m---------------------------------------------------------------------------\u001b[0m",
      "\u001b[1;31mAttributeError\u001b[0m                            Traceback (most recent call last)",
      "\u001b[1;32mc:\\Users\\jlsim\\OneDrive\\Documents\\codingfolder\\Tradingtools\\VolumeProfiling\\MinuteLevel.ipynb Cell 5\u001b[0m line \u001b[0;36m2\n\u001b[0;32m      <a href='vscode-notebook-cell:/c%3A/Users/jlsim/OneDrive/Documents/codingfolder/Tradingtools/VolumeProfiling/MinuteLevel.ipynb#W4sZmlsZQ%3D%3D?line=0'>1</a>\u001b[0m \u001b[39mif\u001b[39;00m \u001b[39m__name__\u001b[39m \u001b[39m==\u001b[39m \u001b[39m\"\u001b[39m\u001b[39m__main__\u001b[39m\u001b[39m\"\u001b[39m:\n\u001b[1;32m----> <a href='vscode-notebook-cell:/c%3A/Users/jlsim/OneDrive/Documents/codingfolder/Tradingtools/VolumeProfiling/MinuteLevel.ipynb#W4sZmlsZQ%3D%3D?line=1'>2</a>\u001b[0m     main()\n",
      "\u001b[1;32mc:\\Users\\jlsim\\OneDrive\\Documents\\codingfolder\\Tradingtools\\VolumeProfiling\\MinuteLevel.ipynb Cell 5\u001b[0m line \u001b[0;36m1\n\u001b[0;32m     <a href='vscode-notebook-cell:/c%3A/Users/jlsim/OneDrive/Documents/codingfolder/Tradingtools/VolumeProfiling/MinuteLevel.ipynb#W4sZmlsZQ%3D%3D?line=14'>15</a>\u001b[0m \u001b[39m# Fetching data for the week\u001b[39;00m\n\u001b[0;32m     <a href='vscode-notebook-cell:/c%3A/Users/jlsim/OneDrive/Documents/codingfolder/Tradingtools/VolumeProfiling/MinuteLevel.ipynb#W4sZmlsZQ%3D%3D?line=15'>16</a>\u001b[0m weekly_data \u001b[39m=\u001b[39m fetch_data(symbol, start_date\u001b[39m.\u001b[39mstrftime(\u001b[39m'\u001b[39m\u001b[39m%\u001b[39m\u001b[39mY-\u001b[39m\u001b[39m%\u001b[39m\u001b[39mm-\u001b[39m\u001b[39m%d\u001b[39;00m\u001b[39m'\u001b[39m), week_end_date\u001b[39m.\u001b[39mstrftime(\u001b[39m'\u001b[39m\u001b[39m%\u001b[39m\u001b[39mY-\u001b[39m\u001b[39m%\u001b[39m\u001b[39mm-\u001b[39m\u001b[39m%d\u001b[39;00m\u001b[39m'\u001b[39m))\n\u001b[1;32m---> <a href='vscode-notebook-cell:/c%3A/Users/jlsim/OneDrive/Documents/codingfolder/Tradingtools/VolumeProfiling/MinuteLevel.ipynb#W4sZmlsZQ%3D%3D?line=16'>17</a>\u001b[0m all_data \u001b[39m=\u001b[39m all_data\u001b[39m.\u001b[39;49mappend(weekly_data)\n\u001b[0;32m     <a href='vscode-notebook-cell:/c%3A/Users/jlsim/OneDrive/Documents/codingfolder/Tradingtools/VolumeProfiling/MinuteLevel.ipynb#W4sZmlsZQ%3D%3D?line=18'>19</a>\u001b[0m \u001b[39m# Update start_date to the next week\u001b[39;00m\n\u001b[0;32m     <a href='vscode-notebook-cell:/c%3A/Users/jlsim/OneDrive/Documents/codingfolder/Tradingtools/VolumeProfiling/MinuteLevel.ipynb#W4sZmlsZQ%3D%3D?line=19'>20</a>\u001b[0m start_date \u001b[39m=\u001b[39m week_end_date\n",
      "File \u001b[1;32mc:\\Users\\jlsim\\anaconda3\\Lib\\site-packages\\pandas\\core\\generic.py:5989\u001b[0m, in \u001b[0;36mNDFrame.__getattr__\u001b[1;34m(self, name)\u001b[0m\n\u001b[0;32m   5982\u001b[0m \u001b[39mif\u001b[39;00m (\n\u001b[0;32m   5983\u001b[0m     name \u001b[39mnot\u001b[39;00m \u001b[39min\u001b[39;00m \u001b[39mself\u001b[39m\u001b[39m.\u001b[39m_internal_names_set\n\u001b[0;32m   5984\u001b[0m     \u001b[39mand\u001b[39;00m name \u001b[39mnot\u001b[39;00m \u001b[39min\u001b[39;00m \u001b[39mself\u001b[39m\u001b[39m.\u001b[39m_metadata\n\u001b[0;32m   5985\u001b[0m     \u001b[39mand\u001b[39;00m name \u001b[39mnot\u001b[39;00m \u001b[39min\u001b[39;00m \u001b[39mself\u001b[39m\u001b[39m.\u001b[39m_accessors\n\u001b[0;32m   5986\u001b[0m     \u001b[39mand\u001b[39;00m \u001b[39mself\u001b[39m\u001b[39m.\u001b[39m_info_axis\u001b[39m.\u001b[39m_can_hold_identifiers_and_holds_name(name)\n\u001b[0;32m   5987\u001b[0m ):\n\u001b[0;32m   5988\u001b[0m     \u001b[39mreturn\u001b[39;00m \u001b[39mself\u001b[39m[name]\n\u001b[1;32m-> 5989\u001b[0m \u001b[39mreturn\u001b[39;00m \u001b[39mobject\u001b[39;49m\u001b[39m.\u001b[39;49m\u001b[39m__getattribute__\u001b[39;49m(\u001b[39mself\u001b[39;49m, name)\n",
      "\u001b[1;31mAttributeError\u001b[0m: 'DataFrame' object has no attribute 'append'"
     ]
    }
   ],
   "source": [
    "\n",
    "if __name__ == \"__main__\":\n",
    "    main()\n"
   ]
  }
 ],
 "metadata": {
  "kernelspec": {
   "display_name": "base",
   "language": "python",
   "name": "python3"
  },
  "language_info": {
   "codemirror_mode": {
    "name": "ipython",
    "version": 3
   },
   "file_extension": ".py",
   "mimetype": "text/x-python",
   "name": "python",
   "nbconvert_exporter": "python",
   "pygments_lexer": "ipython3",
   "version": "3.11.0"
  }
 },
 "nbformat": 4,
 "nbformat_minor": 2
}
